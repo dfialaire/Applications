{
 "cells": [
  {
   "cell_type": "markdown",
   "id": "44e8eb28",
   "metadata": {
    "deletable": false,
    "editable": false
   },
   "source": [
    "<div style=\"text-align:center; border:2px solid black; font-size: 1.8em;\">\n",
    "<h1>DS  : R\u00e9cursivit\u00e9</h1>\n",
    "    <br>\n",
    "</div>"
   ]
  },
  {
   "cell_type": "markdown",
   "id": "d2c3415a",
   "metadata": {},
   "source": [
    "# <span style=\"color:red\"> <u>Inscrivez votre Pr\u00e9nom ici</u> : "
   ]
  },
  {
   "cell_type": "markdown",
   "id": "9771c1f5",
   "metadata": {
    "deletable": false,
    "editable": false
   },
   "source": [
    "<div style=\"text-align:center; border:0px ;background-color:DodgerBlue;margin:10px 10px 0px 10px;padding:10px;\">\n",
    "    </div>\n",
    "<div style=\"border:2px solid DarkBlue;margin:0px 10px 10px 10px;padding:10px;\">\n",
    "<h4><u>Exercice 1</u> : </h4>\n",
    "    <br>Ecrire une fonction <u>r\u00e9cursive</u> <b>multiplie(i,j)</b> qui donnera le r\u00e9sultat des multiplications de tous les \u00e9l\u00e9ments compris entre i et j inclus.</br></br>\n",
    "    <u>Exemple</u> : </br>\n",
    "    \n",
    "~~~ Python\n",
    "multiplie(3,6)  # soit 3x4x5x6\n",
    ">> 360\n",
    "\n",
    "~~~"
   ]
  },
  {
   "cell_type": "code",
   "execution_count": null,
   "id": "c67413c7",
   "metadata": {},
   "outputs": [],
   "source": [
    "def multiplie(i,j):\n",
    "    # \u00e9crivez le code la la fonction ici\n",
    "\n",
    "\n",
    "# zone de test : pas toucher !\n",
    "assert multiplie(3,6) == 360, \"\u26d4\ufe0f Erreur test 1 ! Essaye encore ! \u26d4\ufe0f\"\n",
    "\n",
    "print(\"\ud83d\udc4f BRAVO ! \ud83d\udc4f\")"
   ]
  },
  {
   "cell_type": "markdown",
   "id": "3b1fc37c",
   "metadata": {
    "deletable": false,
    "editable": false
   },
   "source": [
    "<div style=\"text-align:center; border:0px ;background-color:DodgerBlue;margin:10px 10px 0px 10px;padding:10px;\">\n",
    "    </div>\n",
    "<div style=\"border:2px solid DarkBlue;margin:0px 10px 10px 10px;padding:10px;\">\n",
    "<h4><u>Exercice 2</u> : </h4>\n",
    "    <br>Ecrire une fonction <u>r\u00e9cursive</u> <b>inverse_liste(Liste)</b> qui renvoie <u>une nouvelle liste</u> correspondant excatement \u00e0 l'inverse de la premi\u00e8re.</br></br>\n",
    "    <u>Exemples</u> : </br>\n",
    "    \n",
    "~~~ Python\n",
    "Liste = [2, 4, 6, 8, 10]\n",
    "inverse_liste(Liste)\n",
    ">> [10, 8, 6, 4, 2]\n",
    "\n",
    "Liste = [1]\n",
    "inverse_liste(Liste)\n",
    ">> [1]\n",
    "\n",
    "Liste = []\n",
    "inverse_liste(Liste)\n",
    ">> []\n",
    "\n",
    "~~~\n",
    "\n",
    "<b><u>Ps</u></b> : <i>Vous pouvez utiliser le sliding."
   ]
  },
  {
   "cell_type": "code",
   "execution_count": null,
   "id": "f8271d03",
   "metadata": {},
   "outputs": [],
   "source": [
    "def inverse_liste(Liste) : \n",
    "    # \u00e9crivez le code la la fonction ici\n",
    "    \n",
    "\n",
    "    \n",
    "# zone de test : pas toucher !\n",
    "Liste = [2, 4, 6, 8, 10]\n",
    "assert inverse_liste(Liste)  == [10, 8, 6, 4, 2], \"\u26d4\ufe0f Erreur test 1 ! Essaye encore ! \u26d4\ufe0f\"\n",
    "Liste = [1]\n",
    "assert inverse_liste(Liste)  == [1], \"\u26d4\ufe0f Erreur test 2 ! Essaye encore ! \u26d4\ufe0f\"\n",
    "Liste = []\n",
    "assert inverse_liste(Liste)  == [], \"\u26d4\ufe0f Erreur test 3 ! Essaye encore ! \u26d4\ufe0f\"\n",
    "\n",
    "print(\"\ud83d\udc4f BRAVO ! \ud83d\udc4f\")"
   ]
  },
  {
   "cell_type": "markdown",
   "id": "7e53b90c",
   "metadata": {
    "deletable": false,
    "editable": false
   },
   "source": [
    "<div style=\"text-align:center; border:0px ;background-color:DodgerBlue;margin:10px 10px 0px 10px;padding:10px;\">\n",
    "    </div>\n",
    "<div style=\"border:2px solid DarkBlue;margin:0px 10px 10px 10px;padding:10px;\">\n",
    "<h4><u>Exercice 3</u> : </h4>\n",
    "    <br>Ecrire une fonction <u>r\u00e9cursive</u> <b>nb_occurrences(texte, caract)</b> qui renvoie le nombre d\u2019occurrences du caract\u00e8re caract dans le texte.</br></br>\n",
    "    <u>Exemples</u> : </br>\n",
    "    \n",
    "~~~ Python\n",
    "nb_occurrences(\"coucou\", \"c\")\n",
    ">> 2\n",
    "\n",
    "nb_occurrences(\"coucou\", \"a\")\n",
    ">> 0\n",
    "\n",
    "~~~\n",
    "\n",
    "<b><u>Ps</u></b> : <i>Vous pouvez utiliser le sliding."
   ]
  },
  {
   "cell_type": "code",
   "execution_count": null,
   "id": "40f6e8e6",
   "metadata": {},
   "outputs": [],
   "source": [
    "def nb_occurrences(texte, caract): \n",
    "    # \u00e9crivez le code la la fonction ici\n",
    "\n",
    "\n",
    "        \n",
    "# zone de test : pas toucher !\n",
    "\n",
    "assert nb_occurrences(\"couccou\", \"o\")  == 2, \"\u26d4\ufe0f Erreur test 1 ! Essaye encore ! \u26d4\ufe0f\"\n",
    "assert nb_occurrences(\"couccou\", \"a\")  == 0, \"\u26d4\ufe0f Erreur test 2 ! Essaye encore ! \u26d4\ufe0f\"\n",
    "\n",
    "\n",
    "print(\"\ud83d\udc4f BRAVO ! \ud83d\udc4f\")    "
   ]
  }
 ],
 "metadata": {
  "kernelspec": {
   "display_name": "Python 3 (ipykernel)",
   "language": "python",
   "name": "python3"
  },
  "language_info": {
   "codemirror_mode": {
    "name": "ipython",
    "version": 3
   },
   "file_extension": ".py",
   "mimetype": "text/x-python",
   "name": "python",
   "nbconvert_exporter": "python",
   "pygments_lexer": "ipython3",
   "version": "3.9.13"
  }
 },
 "nbformat": 4,
 "nbformat_minor": 5
}